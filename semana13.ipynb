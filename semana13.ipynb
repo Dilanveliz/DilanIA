{
  "nbformat": 4,
  "nbformat_minor": 0,
  "metadata": {
    "colab": {
      "provenance": [],
      "authorship_tag": "ABX9TyMNE9uzB8gRgmIuoINGvJoD",
      "include_colab_link": true
    },
    "kernelspec": {
      "name": "python3",
      "display_name": "Python 3"
    },
    "language_info": {
      "name": "python"
    }
  },
  "cells": [
    {
      "cell_type": "markdown",
      "metadata": {
        "id": "view-in-github",
        "colab_type": "text"
      },
      "source": [
        "<a href=\"https://colab.research.google.com/github/Dilanveliz/DilanIA/blob/main/semana13.ipynb\" target=\"_parent\"><img src=\"https://colab.research.google.com/assets/colab-badge.svg\" alt=\"Open In Colab\"/></a>"
      ]
    },
    {
      "cell_type": "code",
      "execution_count": null,
      "metadata": {
        "colab": {
          "base_uri": "https://localhost:8080/"
        },
        "collapsed": true,
        "id": "Z-2h7L2g9OMH",
        "outputId": "c0532ef8-012c-4ede-f891-61660179ca35"
      },
      "outputs": [
        {
          "output_type": "stream",
          "name": "stdout",
          "text": [
            "(3,)\n",
            "<class 'numpy.ndarray'>\n",
            "[11 22 33]\n",
            "22\n",
            "[11 22]\n",
            "[22 33]\n",
            "Arreglo actualizado: [ 11  22 800]\n"
          ]
        }
      ],
      "source": [
        "import numpy as algebraLineal\n",
        "\n",
        "\n",
        "a=algebraLineal.array([11,22,33])\n",
        "print(a.shape)\n",
        "print(type(a))\n",
        "print(a)\n",
        "\n",
        "print(a[1])\n",
        "print(a[:2])\n",
        "print(a[1:])\n",
        "\n",
        "a[2] = 800\n",
        "\n",
        "print(\"Arreglo actualizado:\", a)"
      ]
    },
    {
      "cell_type": "code",
      "source": [
        "import numpy as np\n",
        "b=np.array([[1,2,3],[11,22,33],[111,222,333]])\n",
        "print(b.shape)\n",
        "print(type(b))\n",
        "print(b)\n",
        "print(b[1,1])\n",
        "print('BEFORE')\n",
        "aux=b[1:,1:]\n",
        "print(aux.shape)\n",
        "print(aux)\n",
        "print('AFTER')\n",
        "b[2, 2] = 1000\n",
        "print(b)\n",
        "\n"
      ],
      "metadata": {
        "colab": {
          "base_uri": "https://localhost:8080/"
        },
        "collapsed": true,
        "id": "Na2lZWn_AaVM",
        "outputId": "ac7ef2fb-919d-440c-d0f4-49bebb106075"
      },
      "execution_count": null,
      "outputs": [
        {
          "output_type": "stream",
          "name": "stdout",
          "text": [
            "(3, 3)\n",
            "<class 'numpy.ndarray'>\n",
            "[[  1   2   3]\n",
            " [ 11  22  33]\n",
            " [111 222 333]]\n",
            "22\n",
            "BEFORE\n",
            "(2, 2)\n",
            "[[ 22  33]\n",
            " [222 333]]\n",
            "AFTER\n",
            "[[   1    2    3]\n",
            " [  11   22   33]\n",
            " [ 111  222 1000]]\n"
          ]
        }
      ]
    },
    {
      "cell_type": "code",
      "source": [
        "c=np.zeros([4,4])\n",
        "print(c)\n",
        "print(c.shape)\n",
        "d=np.full([4,4],5)\n",
        "print(d)\n",
        "print(d.shape)"
      ],
      "metadata": {
        "colab": {
          "base_uri": "https://localhost:8080/"
        },
        "id": "YzcxhE2ED84U",
        "outputId": "a0ee3f4a-ac02-42db-90de-6fd0e09e353f"
      },
      "execution_count": null,
      "outputs": [
        {
          "output_type": "stream",
          "name": "stdout",
          "text": [
            "[[0. 0. 0. 0.]\n",
            " [0. 0. 0. 0.]\n",
            " [0. 0. 0. 0.]\n",
            " [0. 0. 0. 0.]]\n",
            "(4, 4)\n",
            "[[5 5 5 5]\n",
            " [5 5 5 5]\n",
            " [5 5 5 5]\n",
            " [5 5 5 5]]\n",
            "(4, 4)\n"
          ]
        }
      ]
    },
    {
      "cell_type": "code",
      "source": [
        "e=np.eye(3,3)\n",
        "print(e)\n",
        "f=np.ones((4,5))\n",
        "\n",
        "print(f)"
      ],
      "metadata": {
        "colab": {
          "base_uri": "https://localhost:8080/"
        },
        "id": "ikWGkmBlEp99",
        "outputId": "ca3ced85-86ed-4161-d55e-8218b1d91240"
      },
      "execution_count": null,
      "outputs": [
        {
          "output_type": "stream",
          "name": "stdout",
          "text": [
            "[[1. 0. 0.]\n",
            " [0. 1. 0.]\n",
            " [0. 0. 1.]]\n",
            "[[1. 1. 1. 1. 1.]\n",
            " [1. 1. 1. 1. 1.]\n",
            " [1. 1. 1. 1. 1.]\n",
            " [1. 1. 1. 1. 1.]]\n"
          ]
        }
      ]
    },
    {
      "cell_type": "code",
      "source": [
        "g=np.random.random((5,5))\n",
        "print(g)"
      ],
      "metadata": {
        "colab": {
          "base_uri": "https://localhost:8080/"
        },
        "id": "UwO0mkLrFJwj",
        "outputId": "8df597c9-b686-4f45-fe55-200b86960f12"
      },
      "execution_count": null,
      "outputs": [
        {
          "output_type": "stream",
          "name": "stdout",
          "text": [
            "[[0.44380197 0.83845146 0.6348503  0.79082498 0.56083616]\n",
            " [0.9305694  0.74204612 0.72289164 0.22853079 0.62732653]\n",
            " [0.59332798 0.80150479 0.37641618 0.74021569 0.91187627]\n",
            " [0.97459179 0.90089556 0.58961864 0.99735617 0.93862634]\n",
            " [0.25723303 0.12087898 0.0207434  0.85967577 0.89669099]]\n"
          ]
        }
      ]
    },
    {
      "cell_type": "code",
      "source": [
        "tmp1=np.random.randint(1,20,(4,3))\n",
        "print(tmp1)\n",
        "rows=np.array([0,1,2,0])\n",
        "cols=np.arange(4)\n",
        "print(rows)\n",
        "print(cols)\n",
        "\n"
      ],
      "metadata": {
        "colab": {
          "base_uri": "https://localhost:8080/",
          "height": 297
        },
        "id": "HGiB2dtWFSdU",
        "outputId": "7a909375-0f31-4d45-f95c-342dd00660b1",
        "collapsed": true
      },
      "execution_count": null,
      "outputs": [
        {
          "output_type": "stream",
          "name": "stdout",
          "text": [
            "[[ 5 16  8]\n",
            " [15  7 11]\n",
            " [ 1 16  4]\n",
            " [ 8 18 16]]\n",
            "[0 1 2 0]\n",
            "[0 1 2 3]\n"
          ]
        },
        {
          "output_type": "error",
          "ename": "IndexError",
          "evalue": "index 3 is out of bounds for axis 1 with size 3",
          "traceback": [
            "\u001b[0;31m---------------------------------------------------------------------------\u001b[0m",
            "\u001b[0;31mIndexError\u001b[0m                                Traceback (most recent call last)",
            "\u001b[0;32m<ipython-input-31-dc63f7da5614>\u001b[0m in \u001b[0;36m<cell line: 9>\u001b[0;34m()\u001b[0m\n\u001b[1;32m      7\u001b[0m \u001b[0;34m\u001b[0m\u001b[0m\n\u001b[1;32m      8\u001b[0m \u001b[0;34m\u001b[0m\u001b[0m\n\u001b[0;32m----> 9\u001b[0;31m \u001b[0mtmp1\u001b[0m\u001b[0;34m[\u001b[0m\u001b[0mrows\u001b[0m\u001b[0;34m,\u001b[0m\u001b[0mcols\u001b[0m\u001b[0;34m]\u001b[0m\u001b[0;34m=\u001b[0m\u001b[0;36m100\u001b[0m\u001b[0;34m\u001b[0m\u001b[0;34m\u001b[0m\u001b[0m\n\u001b[0m\u001b[1;32m     10\u001b[0m \u001b[0mprint\u001b[0m\u001b[0;34m(\u001b[0m\u001b[0mtmp1\u001b[0m\u001b[0;34m)\u001b[0m\u001b[0;34m\u001b[0m\u001b[0;34m\u001b[0m\u001b[0m\n",
            "\u001b[0;31mIndexError\u001b[0m: index 3 is out of bounds for axis 1 with size 3"
          ]
        }
      ]
    },
    {
      "cell_type": "code",
      "source": [
        "f[row,cols]=100\n",
        "print(f)"
      ],
      "metadata": {
        "id": "TE1_2GLiJn9c",
        "outputId": "4b91474e-33e8-476d-9599-92f856965258",
        "colab": {
          "base_uri": "https://localhost:8080/"
        }
      },
      "execution_count": 33,
      "outputs": [
        {
          "output_type": "stream",
          "name": "stdout",
          "text": [
            "[[100.   1.   1.   1.   1.]\n",
            " [  1. 100.   1.   1.   1.]\n",
            " [  1.   1. 100.   1.   1.]\n",
            " [  1.   1.   1. 100.   1.]]\n"
          ]
        }
      ]
    },
    {
      "cell_type": "code",
      "source": [
        "tmp1=np.random.randint(20,50,(6,6))\n",
        "print(tmp1)"
      ],
      "metadata": {
        "colab": {
          "base_uri": "https://localhost:8080/"
        },
        "id": "Zjfn4D6nMLw_",
        "outputId": "8fe9ffbb-b060-49e1-fc13-769afdd6048f"
      },
      "execution_count": 36,
      "outputs": [
        {
          "output_type": "stream",
          "name": "stdout",
          "text": [
            "[[36 47 47 46 46 20]\n",
            " [25 25 41 36 47 49]\n",
            " [34 35 43 24 28 40]\n",
            " [34 30 25 45 35 38]\n",
            " [20 20 32 43 42 45]\n",
            " [45 39 49 34 31 29]]\n"
          ]
        }
      ]
    },
    {
      "cell_type": "code",
      "source": [
        "filter=[tmp1>45]\n",
        "print(filter)"
      ],
      "metadata": {
        "colab": {
          "base_uri": "https://localhost:8080/"
        },
        "id": "7qof8CEWMZEv",
        "outputId": "9f0f89b6-7484-4c93-bede-d6292948a9b0"
      },
      "execution_count": 37,
      "outputs": [
        {
          "output_type": "stream",
          "name": "stdout",
          "text": [
            "[array([[False,  True,  True,  True,  True, False],\n",
            "       [False, False, False, False,  True,  True],\n",
            "       [False, False, False, False, False, False],\n",
            "       [False, False, False, False, False, False],\n",
            "       [False, False, False, False, False, False],\n",
            "       [False, False,  True, False, False, False]])]\n"
          ]
        }
      ]
    },
    {
      "cell_type": "code",
      "source": [
        "filter = tmp1 > 45  # Create a boolean mask directly\n",
        "print(filter)\n",
        "print(tmp1[filter])"
      ],
      "metadata": {
        "colab": {
          "base_uri": "https://localhost:8080/"
        },
        "id": "Bkc97DBuMaz2",
        "outputId": "b8f07528-4286-4e68-c8ab-16a1b03b8264"
      },
      "execution_count": 39,
      "outputs": [
        {
          "output_type": "stream",
          "name": "stdout",
          "text": [
            "[[False  True  True  True  True False]\n",
            " [False False False False  True  True]\n",
            " [False False False False False False]\n",
            " [False False False False False False]\n",
            " [False False False False False False]\n",
            " [False False  True False False False]]\n",
            "[47 47 46 46 47 49 49]\n"
          ]
        }
      ]
    },
    {
      "cell_type": "code",
      "source": [
        "tmp1=np.random.randint(1,100,(10,10))\n",
        "print(tmp1)"
      ],
      "metadata": {
        "colab": {
          "base_uri": "https://localhost:8080/"
        },
        "id": "hAep-kArMslo",
        "outputId": "8488baf5-52dc-4768-c6ea-72b3ed56e635"
      },
      "execution_count": 40,
      "outputs": [
        {
          "output_type": "stream",
          "name": "stdout",
          "text": [
            "[[46 62 26 40 71 32 55 68 27 83]\n",
            " [19 86 83 91 62 83  2 34 89 21]\n",
            " [60 52 91 22 72 38 97 59 19 53]\n",
            " [98 79 53  4  2 41 27 11 57 40]\n",
            " [ 9  8 40 50 41 41 97 78 31 88]\n",
            " [10 36 36 75 48 47 34 90 66 73]\n",
            " [29 66 25 77 68 98  7 94 68  2]\n",
            " [67 14 66 77 24 55 78 84 86  3]\n",
            " [24 75 80 91 62 79  4 45 66 54]\n",
            " [92 90 45 20 19 51 58 60  3 99]]\n"
          ]
        }
      ]
    },
    {
      "cell_type": "code",
      "source": [
        "filter=(tmp1%2==0)\n",
        "print(filter)\n",
        "print(tmp1[filter])"
      ],
      "metadata": {
        "colab": {
          "base_uri": "https://localhost:8080/"
        },
        "id": "mdORpTN9OhLW",
        "outputId": "b77f11f0-4bc4-40d0-b4e2-840d0e5286b4"
      },
      "execution_count": 41,
      "outputs": [
        {
          "output_type": "stream",
          "name": "stdout",
          "text": [
            "[[ True  True  True  True False  True False  True False False]\n",
            " [False  True False False  True False  True  True False False]\n",
            " [ True  True False  True  True  True False False False False]\n",
            " [ True False False  True  True False False False False  True]\n",
            " [False  True  True  True False False False  True False  True]\n",
            " [ True  True  True False  True False  True  True  True False]\n",
            " [False  True False False  True  True False  True  True  True]\n",
            " [False  True  True False  True False  True  True  True False]\n",
            " [ True False  True False  True False  True False  True  True]\n",
            " [ True  True False  True False False  True  True False False]]\n",
            "[46 62 26 40 32 68 86 62  2 34 60 52 22 72 38 98  4  2 40  8 40 50 78 88\n",
            " 10 36 36 48 34 90 66 66 68 98 94 68  2 14 66 24 78 84 86 24 80 62  4 66\n",
            " 54 92 90 20 58 60]\n"
          ]
        }
      ]
    },
    {
      "cell_type": "code",
      "source": [
        "tmp3=np.array([1,2,3,4,5],dtype=np.float64)\n",
        "print(tmp3.dtype)"
      ],
      "metadata": {
        "colab": {
          "base_uri": "https://localhost:8080/"
        },
        "id": "x51uhn9rOuNG",
        "outputId": "32dc2e81-c0a7-4fd6-da34-fc86f715030c"
      },
      "execution_count": 42,
      "outputs": [
        {
          "output_type": "stream",
          "name": "stdout",
          "text": [
            "float64\n"
          ]
        }
      ]
    },
    {
      "cell_type": "code",
      "source": [
        "# prompt: crear una matriz con dos dimensiones\n",
        "\n",
        "import numpy as np\n",
        "\n",
        "# Create a 2D array with shape (3, 4)\n",
        "matrix = np.array([[1, 2, 3, 4],\n",
        "                   [5, 6, 7, 8],\n",
        "                   [9, 10, 11, 12]])\n",
        "\n",
        "# Print the matrix\n",
        "print(matrix)\n"
      ],
      "metadata": {
        "colab": {
          "base_uri": "https://localhost:8080/"
        },
        "id": "xe_LZETtPDBP",
        "outputId": "0d4c67b4-684a-4613-fa88-da2d0d0c59a8"
      },
      "execution_count": 43,
      "outputs": [
        {
          "output_type": "stream",
          "name": "stdout",
          "text": [
            "[[ 1  2  3  4]\n",
            " [ 5  6  7  8]\n",
            " [ 9 10 11 12]]\n"
          ]
        }
      ]
    },
    {
      "cell_type": "code",
      "source": [
        "x=np.array([[1,2],[11,22]])\n",
        "y=np.array([[22,33],[44,55]])\n",
        "print(x)\n",
        "print(y)\n",
        "\n",
        "print(np.add(x,y))\n",
        "print(np.subtract(x,y))\n",
        "print(np.multiply(x,y))\n",
        "print(np.divide(x,y))\n",
        "print(np.sqrt(x))"
      ],
      "metadata": {
        "colab": {
          "base_uri": "https://localhost:8080/"
        },
        "id": "TEWeIgsZPT_2",
        "outputId": "3c2d6c68-eafa-4dc6-aa23-5b45a0f0924e"
      },
      "execution_count": 52,
      "outputs": [
        {
          "output_type": "stream",
          "name": "stdout",
          "text": [
            "[[ 1  2]\n",
            " [11 22]]\n",
            "[[22 33]\n",
            " [44 55]]\n",
            "[[23 35]\n",
            " [55 77]]\n",
            "[[-21 -31]\n",
            " [-33 -33]]\n",
            "[[  22   66]\n",
            " [ 484 1210]]\n",
            "[[0.04545455 0.06060606]\n",
            " [0.25       0.4       ]]\n",
            "[[1.         1.41421356]\n",
            " [3.31662479 4.69041576]]\n"
          ]
        }
      ]
    },
    {
      "cell_type": "code",
      "source": [
        "tmp1=np.random.randint(1,10,(2,5))\n",
        "print(tmp1)\n",
        "aux=tmp1.mean()\n",
        "print(aux)"
      ],
      "metadata": {
        "colab": {
          "base_uri": "https://localhost:8080/"
        },
        "id": "yKSmtwQHQcjD",
        "outputId": "2fa43ef3-728b-45d8-9db6-5a8e89aa1f34"
      },
      "execution_count": 53,
      "outputs": [
        {
          "output_type": "stream",
          "name": "stdout",
          "text": [
            "[[7 1 8 1 5]\n",
            " [6 3 3 8 3]]\n",
            "4.5\n"
          ]
        }
      ]
    },
    {
      "cell_type": "code",
      "source": [
        "print(tmp1.sum(axis=0))\n",
        "print(tmp1.sum(axis=1))"
      ],
      "metadata": {
        "colab": {
          "base_uri": "https://localhost:8080/"
        },
        "id": "YpaBZnmfRSp0",
        "outputId": "091f1e08-fef4-4c20-8637-ff863decf7ee"
      },
      "execution_count": 54,
      "outputs": [
        {
          "output_type": "stream",
          "name": "stdout",
          "text": [
            "[13  4 11  9  8]\n",
            "[22 23]\n"
          ]
        }
      ]
    }
  ]
}