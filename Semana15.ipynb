{
  "nbformat": 4,
  "nbformat_minor": 0,
  "metadata": {
    "colab": {
      "provenance": [],
      "authorship_tag": "ABX9TyNKuzJzitxVi5NGhxapo72T",
      "include_colab_link": true
    },
    "kernelspec": {
      "name": "python3",
      "display_name": "Python 3"
    },
    "language_info": {
      "name": "python"
    }
  },
  "cells": [
    {
      "cell_type": "markdown",
      "metadata": {
        "id": "view-in-github",
        "colab_type": "text"
      },
      "source": [
        "<a href=\"https://colab.research.google.com/github/Dilanveliz/DilanIA/blob/main/Semana15.ipynb\" target=\"_parent\"><img src=\"https://colab.research.google.com/assets/colab-badge.svg\" alt=\"Open In Colab\"/></a>"
      ]
    },
    {
      "cell_type": "code",
      "execution_count": null,
      "metadata": {
        "id": "JB3L_mgPt3pR"
      },
      "outputs": [],
      "source": [
        "import seaborn as sns\n",
        "import pandas as pd\n",
        "dfd= pd.read_csv('/content/Mineria.csv')\n",
        "\n",
        "dfd.head()"
      ]
    },
    {
      "cell_type": "code",
      "source": [
        "dfdCorr= dfd.corr(method='spearman')\n",
        "dfdCorr"
      ],
      "metadata": {
        "id": "L9PFz6FkveTN"
      },
      "execution_count": null,
      "outputs": []
    },
    {
      "cell_type": "code",
      "source": [
        "sns.heatmap(dfdCorr,\n",
        "            xticklabels=dfdCorr.columns,\n",
        "            yticklabels=dfdCorr.columns,\n",
        "            cmap='coolwarm')"
      ],
      "metadata": {
        "id": "CoBGyEiWvjBP"
      },
      "execution_count": null,
      "outputs": []
    },
    {
      "cell_type": "code",
      "source": [
        "Expl=dfd[['edad']]\n",
        "Obje= dfd['años']\n",
        "import sklearn\n",
        "from sklearn.linear_model import LinearRegression\n",
        "Model = LinearRegression()\n",
        "type(Model)\n",
        "sklearn.linear_model._base.LinearRegression\n",
        "Model.fit(X=Expl, y=Obje)\n",
        "LinearRegression()\n",
        "Model.__dict__"
      ],
      "metadata": {
        "id": "VTdc4Ug1vlwv"
      },
      "execution_count": null,
      "outputs": []
    },
    {
      "cell_type": "code",
      "source": [
        "Model.predict(X=[[40]])"
      ],
      "metadata": {
        "id": "gjOAsnmYvsEW"
      },
      "execution_count": null,
      "outputs": []
    },
    {
      "cell_type": "code",
      "source": [
        "y_pred= Model.predict(X=dfd[['edad']])\n",
        "dfd.insert(0, 'pred', y_pred)\n",
        "dfd.head()"
      ],
      "metadata": {
        "id": "kJ-fiO3QweTO"
      },
      "execution_count": null,
      "outputs": []
    },
    {
      "cell_type": "code",
      "source": [
        "sns.scatterplot(x='edad', y='años', data= dfd)\n",
        "sns.scatterplot(x='edad', y='pred', data= dfd )\n",
        "sns.lineplot(x='edad', y='pred', data=dfd, color= 'green')"
      ],
      "metadata": {
        "id": "_rTk8qXAwh2t"
      },
      "execution_count": null,
      "outputs": []
    },
    {
      "cell_type": "code",
      "source": [
        "Model.score(X=Expl, y= Obje)"
      ],
      "metadata": {
        "id": "GhHpnhu5wlNt"
      },
      "execution_count": null,
      "outputs": []
    }
  ]
}