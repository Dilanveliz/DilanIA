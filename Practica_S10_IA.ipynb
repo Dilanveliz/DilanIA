{
  "nbformat": 4,
  "nbformat_minor": 0,
  "metadata": {
    "colab": {
      "provenance": [],
      "toc_visible": true,
      "authorship_tag": "ABX9TyNAEjaOCbeUrSRKWwKezKsN",
      "include_colab_link": true
    },
    "kernelspec": {
      "name": "python3",
      "display_name": "Python 3"
    },
    "language_info": {
      "name": "python"
    }
  },
  "cells": [
    {
      "cell_type": "markdown",
      "metadata": {
        "id": "view-in-github",
        "colab_type": "text"
      },
      "source": [
        "<a href=\"https://colab.research.google.com/github/Dilanveliz/DilanIA/blob/main/Practica_S10_IA.ipynb\" target=\"_parent\"><img src=\"https://colab.research.google.com/assets/colab-badge.svg\" alt=\"Open In Colab\"/></a>"
      ]
    },
    {
      "cell_type": "code",
      "execution_count": null,
      "metadata": {
        "colab": {
          "base_uri": "https://localhost:8080/"
        },
        "id": "cCugLp5p79eZ",
        "outputId": "b0b88156-fe5c-46b8-fe2a-f2e4ac070fa0"
      },
      "outputs": [
        {
          "output_type": "stream",
          "name": "stdout",
          "text": [
            "Python 3.10.12\n"
          ]
        }
      ],
      "source": [
        "# prompt: como ver la version de python\n",
        "\n",
        "!python --version\n"
      ]
    },
    {
      "cell_type": "code",
      "source": [],
      "metadata": {
        "id": "r1n19sAwl-wl"
      },
      "execution_count": null,
      "outputs": []
    },
    {
      "cell_type": "code",
      "source": [
        "myNumber = 3\n",
        "myNumberDecimal = 3.6\n",
        "state=True\n",
        "\n"
      ],
      "metadata": {
        "id": "ZT7LkkeYCpTc"
      },
      "execution_count": null,
      "outputs": []
    },
    {
      "cell_type": "code",
      "source": [
        "print(f'valor entero: {myNumber}')\n",
        "print(f'valor entero:', myNumber)\n",
        "print(f'valor decimal: {myNumberDecimal}')\n",
        "print(f'valor booleano: {state}')"
      ],
      "metadata": {
        "colab": {
          "base_uri": "https://localhost:8080/"
        },
        "id": "Yx5H0T3CDTRj",
        "outputId": "c18ed35e-e90f-42bf-d0ce-d64f39c5e948"
      },
      "execution_count": null,
      "outputs": [
        {
          "output_type": "stream",
          "name": "stdout",
          "text": [
            "valor entero: 3\n",
            "valor entero: 3\n",
            "valor decimal: 3.6\n",
            "valor booleano: True\n"
          ]
        }
      ]
    },
    {
      "cell_type": "code",
      "source": [
        "aux1=10\n",
        "aux2=2\n",
        "aux3=aux1+aux2\n",
        "print(\"La suma de las variables aux1 + aux2 es =\", aux3)\n",
        "aux3=aux1-aux2\n",
        "print(\"La resta de las variables aux1 - aux2 es =\", aux3)\n",
        "aux3=aux1*aux2\n",
        "print(\"La multiplicacion de las variables aux1 * aux2 es =\", aux3)\n",
        "aux3=aux1/aux2\n",
        "print(\"La division de las variables aux1 / aux2 es =\", aux3)"
      ],
      "metadata": {
        "colab": {
          "base_uri": "https://localhost:8080/"
        },
        "id": "8dRA_3uMEHYs",
        "outputId": "27e282c8-9a6b-4cc8-aa26-3fd8a8fe9336"
      },
      "execution_count": null,
      "outputs": [
        {
          "output_type": "stream",
          "name": "stdout",
          "text": [
            "La suma de las variables aux1 + aux2 es = 12\n",
            "La resta de las variables aux1 - aux2 es = 8\n",
            "La multiplicacion de las variables aux1 * aux2 es = 20\n",
            "La division de las variables aux1 / aux2 es = 5.0\n"
          ]
        }
      ]
    },
    {
      "cell_type": "code",
      "source": [
        "tmp=aux1**aux2\n",
        "print(f'10 elevado a la potencia 2: {tmp}')"
      ],
      "metadata": {
        "colab": {
          "base_uri": "https://localhost:8080/"
        },
        "id": "qNwTA26UFwvU",
        "outputId": "33a14916-50a7-42f9-efe1-ddb90d6e7738"
      },
      "execution_count": null,
      "outputs": [
        {
          "output_type": "stream",
          "name": "stdout",
          "text": [
            "10 elevado a la potencia 2: 100\n"
          ]
        }
      ]
    },
    {
      "cell_type": "code",
      "source": [
        "var1='hola'\n",
        "var2='!,Dilan'\n",
        "var3=var1+var2\n",
        "print(var3)"
      ],
      "metadata": {
        "colab": {
          "base_uri": "https://localhost:8080/"
        },
        "id": "WFuKmzokF9PU",
        "outputId": "4b46ad30-181c-46a7-a639-4835fe9ad275"
      },
      "execution_count": null,
      "outputs": [
        {
          "output_type": "stream",
          "name": "stdout",
          "text": [
            "hola!,Dilan\n"
          ]
        }
      ]
    },
    {
      "cell_type": "code",
      "source": [
        "print(3*var1)"
      ],
      "metadata": {
        "colab": {
          "base_uri": "https://localhost:8080/"
        },
        "id": "HyNGKfd-Gi2E",
        "outputId": "af610bde-b68d-4a46-8089-99fc4f61f60c"
      },
      "execution_count": null,
      "outputs": [
        {
          "output_type": "stream",
          "name": "stdout",
          "text": [
            "holaholahola\n"
          ]
        }
      ]
    },
    {
      "cell_type": "code",
      "source": [
        "num1=10\n",
        "num2=10.5"
      ],
      "metadata": {
        "id": "qVSRzoaGGr90"
      },
      "execution_count": null,
      "outputs": []
    },
    {
      "cell_type": "code",
      "source": [
        "print('El tipo de numero 1 es:', type(num1))\n",
        "print('El tipo de numero 2 es:', type(num2))"
      ],
      "metadata": {
        "colab": {
          "base_uri": "https://localhost:8080/"
        },
        "id": "iN1UgiKuG6Ii",
        "outputId": "20b2cc7d-ae3c-46b6-c806-3fcd9c6c1dd4"
      },
      "execution_count": null,
      "outputs": [
        {
          "output_type": "stream",
          "name": "stdout",
          "text": [
            "El tipo de numero 1 es: <class 'int'>\n",
            "El tipo de numero 2 es: <class 'float'>\n"
          ]
        }
      ]
    },
    {
      "cell_type": "code",
      "source": [
        "tmp=list()\n",
        "tmp.append(2)\n",
        "print(tmp)\n",
        "tmp.append('Dilan')\n",
        "print(tmp)\n",
        "tmp.append(3)\n",
        "tmp.append('Veliz')\n",
        "print(tmp)\n",
        "#print(tmp[3])\n",
        "#aux=tmp(3)\n",
        "#aux.capitalize()\n",
        "#print(aux)\n",
        "#print(aux.upper())\n",
        "\n",
        "#tmp1='hello'\n",
        "#print(tmp.capitalize())\n",
        "\n",
        "aux1=[1,2,3,4,5,6,7,8,9,10]\n",
        "print(aux1)\n",
        "\n",
        "aux1[4]=10\n",
        "print(aux1)\n",
        "\n",
        "print(aux1[-1])\n",
        "print(aux1[3:7])\n",
        "print(aux1[0:5])\n",
        "print(aux1[:5])\n",
        "\n",
        "aux2=list()\n",
        "for i in range(100):\n",
        "  aux2.append(i)\n",
        "#  print(aux2[:20])\n",
        "\n",
        "aux3=list()\n",
        "for indx, element in enumerate(aux2):\n",
        "  if aux2[indx] % 2 == 0:\n",
        "   aux3.append(aux2[indx])\n",
        "#print(aux2[indx])\n",
        "\n",
        "print(aux3)\n",
        "\n",
        "\n",
        "aux4 = []\n",
        "\n",
        "# Recorrer la lista aux2 con índice y elementos\n",
        "for indx, element in enumerate(aux2):\n",
        "# Verificar si el elemento es par\n",
        "  if element % 2 == 0:\n",
        "    # Si es par, elevarlo al cuadrado y agregarlo a la lista aux3\n",
        "    aux4.append(element ** 2)\n",
        "\n",
        "print(aux4)\n",
        "\n",
        "animals=['cat', 'dog', 'monkey', 'rabbit']\n",
        "for animal in animals:\n",
        "    print(animal)\n",
        "\n",
        "tmp3=[ i**2 for i in range(10)]\n",
        "print(tmp3)\n",
        "\n",
        "tmp4=[i**2 for i in range(10) if i%2==0]\n",
        "print(tmp4)"
      ],
      "metadata": {
        "colab": {
          "base_uri": "https://localhost:8080/"
        },
        "collapsed": true,
        "id": "H2uIH45RmCdr",
        "outputId": "e7a9b4bb-8d0b-4aff-ac14-e4782f4a8ffa"
      },
      "execution_count": null,
      "outputs": [
        {
          "output_type": "stream",
          "name": "stdout",
          "text": [
            "[2]\n",
            "[2, 'Dilan']\n",
            "[2, 'Dilan', 3, 'Veliz']\n",
            "[1, 2, 3, 4, 5, 6, 7, 8, 9, 10]\n",
            "[1, 2, 3, 4, 10, 6, 7, 8, 9, 10]\n",
            "10\n",
            "[4, 10, 6, 7]\n",
            "[1, 2, 3, 4, 10]\n",
            "[1, 2, 3, 4, 10]\n",
            "[0, 2, 4, 6, 8, 10, 12, 14, 16, 18, 20, 22, 24, 26, 28, 30, 32, 34, 36, 38, 40, 42, 44, 46, 48, 50, 52, 54, 56, 58, 60, 62, 64, 66, 68, 70, 72, 74, 76, 78, 80, 82, 84, 86, 88, 90, 92, 94, 96, 98]\n",
            "[0, 4, 16, 36, 64, 100, 144, 196, 256, 324, 400, 484, 576, 676, 784, 900, 1024, 1156, 1296, 1444, 1600, 1764, 1936, 2116, 2304, 2500, 2704, 2916, 3136, 3364, 3600, 3844, 4096, 4356, 4624, 4900, 5184, 5476, 5776, 6084, 6400, 6724, 7056, 7396, 7744, 8100, 8464, 8836, 9216, 9604]\n",
            "cat\n",
            "dog\n",
            "monkey\n",
            "rabbit\n",
            "[0, 1, 4, 9, 16, 25, 36, 49, 64, 81]\n",
            "[0, 4, 16, 36, 64]\n"
          ]
        }
      ]
    },
    {
      "cell_type": "code",
      "source": [
        "myDictionary={'cat':'cute', 'dog':'big', 'cow':'white', 'bird':'blue', 'fish':'green'}\n",
        "print(myDictionary['cat'])\n",
        "print(myDictionary['cow'])\n",
        "\n",
        "for key, value in myDictionary.items():\n",
        "  print(f'key : ({key} value: {value}')\n",
        "\n",
        "\n",
        "myList = [1, 2, 3, 4, 5, 6]\n",
        "myDictAux1 = {x: x**2 for x in myList}\n",
        "print(myDictAux1)"
      ],
      "metadata": {
        "colab": {
          "base_uri": "https://localhost:8080/"
        },
        "collapsed": true,
        "id": "3wrDvxS_vko1",
        "outputId": "6b839b47-3362-47b9-9224-4ab972b62367"
      },
      "execution_count": null,
      "outputs": [
        {
          "output_type": "stream",
          "name": "stdout",
          "text": [
            "cute\n",
            "white\n",
            "key : (cat value: cute\n",
            "key : (dog value: big\n",
            "key : (cow value: white\n",
            "key : (bird value: blue\n",
            "key : (fish value: green\n",
            "{1: 1, 2: 4, 3: 9, 4: 16, 5: 25, 6: 36}\n"
          ]
        }
      ]
    },
    {
      "cell_type": "code",
      "source": [
        "def suma(var1,var2, flag):\n",
        "  if flag==True:\n",
        "    tmp=var1+var2\n",
        "  else:\n",
        "    #resta\n",
        "    tmp=var1-var2\n",
        "  return tmp\n",
        "\n",
        "num1=3\n",
        "num2=7\n",
        "control=True\n",
        "print(suma(num1,num2,control))\n",
        "\n"
      ],
      "metadata": {
        "colab": {
          "base_uri": "https://localhost:8080/"
        },
        "id": "gBQdhC234Gdu",
        "outputId": "2eb26a45-9840-499d-f08d-804d0626efbb"
      },
      "execution_count": null,
      "outputs": [
        {
          "output_type": "stream",
          "name": "stdout",
          "text": [
            "10\n"
          ]
        }
      ]
    },
    {
      "cell_type": "code",
      "source": [
        "ListNumeros=[-1,1,0]\n",
        "def signo(numero):\n",
        "  if numero > 0:\n",
        "    return 'positivo'\n",
        "  elif numero < 0:\n",
        "    return 'negativo'\n",
        "  else:\n",
        "      return 'es cero'\n",
        "  for num in ListNumeros:\n",
        "print(f\"El numero {numero} es  {signo(numero)}\")"
      ],
      "metadata": {
        "colab": {
          "base_uri": "https://localhost:8080/",
          "height": 106
        },
        "collapsed": true,
        "id": "LJdbDTYQ6_t0",
        "outputId": "ac637534-a4f6-4e34-ef9e-4c9e88a579c8"
      },
      "execution_count": null,
      "outputs": [
        {
          "output_type": "error",
          "ename": "IndentationError",
          "evalue": "expected an indented block after 'for' statement on line 9 (<ipython-input-55-7bf32e6666d2>, line 10)",
          "traceback": [
            "\u001b[0;36m  File \u001b[0;32m\"<ipython-input-55-7bf32e6666d2>\"\u001b[0;36m, line \u001b[0;32m10\u001b[0m\n\u001b[0;31m    print(f\"El numero {numero} es  {signo(numero)}\")\u001b[0m\n\u001b[0m                                                    ^\u001b[0m\n\u001b[0;31mIndentationError\u001b[0m\u001b[0;31m:\u001b[0m expected an indented block after 'for' statement on line 9\n"
          ]
        }
      ]
    }
  ]
}