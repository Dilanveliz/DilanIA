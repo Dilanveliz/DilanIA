{
  "nbformat": 4,
  "nbformat_minor": 0,
  "metadata": {
    "colab": {
      "provenance": [],
      "authorship_tag": "ABX9TyNe6Kk7OEMI/1y7NKTky5ll",
      "include_colab_link": true
    },
    "kernelspec": {
      "name": "python3",
      "display_name": "Python 3"
    },
    "language_info": {
      "name": "python"
    }
  },
  "cells": [
    {
      "cell_type": "markdown",
      "metadata": {
        "id": "view-in-github",
        "colab_type": "text"
      },
      "source": [
        "<a href=\"https://colab.research.google.com/github/Dilanveliz/DilanIA/blob/main/Leccion.ipynb\" target=\"_parent\"><img src=\"https://colab.research.google.com/assets/colab-badge.svg\" alt=\"Open In Colab\"/></a>"
      ]
    },
    {
      "cell_type": "code",
      "execution_count": 2,
      "metadata": {
        "colab": {
          "base_uri": "https://localhost:8080/"
        },
        "id": "CiLdP_Ny-zNn",
        "outputId": "89bb5d88-2e5d-4973-8b8a-5092d9783a8d"
      },
      "outputs": [
        {
          "output_type": "stream",
          "name": "stdout",
          "text": [
            "Python 3.10.12\n"
          ]
        }
      ],
      "source": [
        "!python --version\n",
        "import numpy as np\n"
      ]
    },
    {
      "cell_type": "code",
      "source": [
        "arr = np.array([0, 1, 2, 3, 4, 5, 6, 7, 8, 9])\n",
        "print(arr)"
      ],
      "metadata": {
        "colab": {
          "base_uri": "https://localhost:8080/"
        },
        "id": "APRCcBNt_6Nx",
        "outputId": "ff573525-57a6-47ce-8430-6153f61de055"
      },
      "execution_count": 5,
      "outputs": [
        {
          "output_type": "stream",
          "name": "stdout",
          "text": [
            "[0 1 2 3 4 5 6 7 8 9]\n"
          ]
        }
      ]
    },
    {
      "cell_type": "code",
      "source": [
        "vector = np.random.rand(10)\n",
        "max_index = np.argmax(vector)\n",
        "vector[max_index] = 0\n",
        "print(\"Vector original:\")\n",
        "print(vector)"
      ],
      "metadata": {
        "colab": {
          "base_uri": "https://localhost:8080/"
        },
        "id": "O2AWlZYJAcSo",
        "outputId": "33e2875e-23a5-40d0-e661-27b0e05c20d5"
      },
      "execution_count": 6,
      "outputs": [
        {
          "output_type": "stream",
          "name": "stdout",
          "text": [
            "Vector original:\n",
            "[0.24218706 0.8733655  0.44249251 0.         0.02602823 0.07756089\n",
            " 0.57919123 0.59942616 0.23855191 0.4322758 ]\n"
          ]
        }
      ]
    },
    {
      "cell_type": "code",
      "source": [
        "arr = np.array([1, 8, 3, 8, 5, 6, 8, 2, 8, 0])\n",
        "for num in arr:\n",
        "    if num == 8:\n",
        "        print(num)"
      ],
      "metadata": {
        "colab": {
          "base_uri": "https://localhost:8080/"
        },
        "id": "Xx1rlM7jBCLh",
        "outputId": "971bcee6-6107-4e67-a84a-585804e609d4"
      },
      "execution_count": 7,
      "outputs": [
        {
          "output_type": "stream",
          "name": "stdout",
          "text": [
            "8\n",
            "8\n",
            "8\n",
            "8\n"
          ]
        }
      ]
    },
    {
      "cell_type": "code",
      "source": [
        "arr = np.array([1, 2, 3, 4, 5, 6, 7])\n",
        "numbers_to_print = [3, 4, 5]\n",
        "for num in numbers_to_print:\n",
        "    if num in arr:\n",
        "        print(num)\n",
        ""
      ],
      "metadata": {
        "colab": {
          "base_uri": "https://localhost:8080/"
        },
        "id": "wQd5HSRSBGbA",
        "outputId": "11f8b63e-070d-42a5-beee-d573f917b325"
      },
      "execution_count": 8,
      "outputs": [
        {
          "output_type": "stream",
          "name": "stdout",
          "text": [
            "3\n",
            "4\n",
            "5\n"
          ]
        }
      ]
    },
    {
      "cell_type": "code",
      "source": [
        "arr = np.array([1, 2, 3, 4, 5, 6, 7])\n",
        "ultimos_cuatro = arr[-4:]\n",
        "print(\"Los últimos 4 números del arreglo son:\", ultimos_cuatro)"
      ],
      "metadata": {
        "colab": {
          "base_uri": "https://localhost:8080/"
        },
        "id": "RKynml9kBqxY",
        "outputId": "27c8e5f7-6729-45a6-92ee-d89f84c4a2e2"
      },
      "execution_count": 9,
      "outputs": [
        {
          "output_type": "stream",
          "name": "stdout",
          "text": [
            "Los últimos 4 números del arreglo son: [4 5 6 7]\n"
          ]
        }
      ]
    },
    {
      "cell_type": "code",
      "source": [
        "matrix = np.ones((3, 3)).astype(bool)\n",
        "print(matrix)"
      ],
      "metadata": {
        "colab": {
          "base_uri": "https://localhost:8080/"
        },
        "id": "sqANID2XCB74",
        "outputId": "d2b5dd25-7bb2-4b4b-b897-43089f25560a"
      },
      "execution_count": 10,
      "outputs": [
        {
          "output_type": "stream",
          "name": "stdout",
          "text": [
            "[[ True  True  True]\n",
            " [ True  True  True]\n",
            " [ True  True  True]]\n"
          ]
        }
      ]
    },
    {
      "cell_type": "code",
      "source": [
        "arr = np.array([1, 2, 3, 4, 5, 6, 7, 8, 9, 10])\n",
        "odd_numbers = arr[arr % 2 != 0]\n",
        "print(\"Odd numbers in the array:\", odd_numbers)"
      ],
      "metadata": {
        "colab": {
          "base_uri": "https://localhost:8080/"
        },
        "id": "AiiQPpYnCQ8Y",
        "outputId": "c36bfe1b-6861-41fa-e4a4-59ffa3e0787f"
      },
      "execution_count": 11,
      "outputs": [
        {
          "output_type": "stream",
          "name": "stdout",
          "text": [
            "Odd numbers in the array: [1 3 5 7 9]\n"
          ]
        }
      ]
    },
    {
      "cell_type": "code",
      "source": [
        "vector = np.arange(10, 50)\n",
        "print(vector)"
      ],
      "metadata": {
        "colab": {
          "base_uri": "https://localhost:8080/"
        },
        "id": "f1m53LLoCipo",
        "outputId": "2d14d042-43b5-4008-eeb3-66b7d0c4f337"
      },
      "execution_count": 12,
      "outputs": [
        {
          "output_type": "stream",
          "name": "stdout",
          "text": [
            "[10 11 12 13 14 15 16 17 18 19 20 21 22 23 24 25 26 27 28 29 30 31 32 33\n",
            " 34 35 36 37 38 39 40 41 42 43 44 45 46 47 48 49]\n"
          ]
        }
      ]
    },
    {
      "cell_type": "code",
      "source": [
        "vector = np.array([1, 2, 3, 4, 5])\n",
        "vector_revertido = vector[::-1]\n",
        "print(\"Vector original:\", vector)\n",
        "print(\"Vector revertido:\", vector_revertido)"
      ],
      "metadata": {
        "colab": {
          "base_uri": "https://localhost:8080/"
        },
        "id": "iAQk97SwDANA",
        "outputId": "009f0281-583b-451a-d59a-4bbeb1a84c61"
      },
      "execution_count": 13,
      "outputs": [
        {
          "output_type": "stream",
          "name": "stdout",
          "text": [
            "Vector original: [1 2 3 4 5]\n",
            "Vector revertido: [5 4 3 2 1]\n"
          ]
        }
      ]
    },
    {
      "cell_type": "code",
      "source": [
        "matriz = np.random.randint(0, 100, size=(10, 10))\n",
        "minimo_valor = np.min(matriz)\n",
        "maximo_valor = np.max(matriz)\n",
        "print(matriz)\n",
        "print(\"\\nValor mínimo en la matriz:\", minimo_valor)\n",
        "print(\"Valor máximo en la matriz:\", maximo_valor)"
      ],
      "metadata": {
        "colab": {
          "base_uri": "https://localhost:8080/"
        },
        "id": "ma1su44ODHBY",
        "outputId": "0ea04cad-35e6-40f0-a7c5-18c697d48a75"
      },
      "execution_count": 14,
      "outputs": [
        {
          "output_type": "stream",
          "name": "stdout",
          "text": [
            "[[56 66 91 10 88 83 13 76  8 35]\n",
            " [ 5 37 98 33 57 79 47 99 52 48]\n",
            " [65 77  7 83  6 75 64 97 51 48]\n",
            " [49 42 38 31 15 67 20 85 44 49]\n",
            " [52 12 53 81 60 49 37 52 84 51]\n",
            " [52 42 68 47 42 44 81 23  1 17]\n",
            " [60 67 68 27 43 64 61 18  4 59]\n",
            " [25 34 72 59 42 25 35 85 43 28]\n",
            " [ 0 34  3 72 52 29 69 65 57 65]\n",
            " [31 45  3 19 79 93 22  5 41 21]]\n",
            "\n",
            "Valor mínimo en la matriz: 0\n",
            "Valor máximo en la matriz: 99\n"
          ]
        }
      ]
    },
    {
      "cell_type": "code",
      "source": [
        "arr = np.random.rand(3, 3, 3)\n",
        "print(arr)"
      ],
      "metadata": {
        "colab": {
          "base_uri": "https://localhost:8080/"
        },
        "id": "r4mMAzjdDtog",
        "outputId": "3d943d0f-2a8a-49b3-d280-92156b9fadb7"
      },
      "execution_count": 15,
      "outputs": [
        {
          "output_type": "stream",
          "name": "stdout",
          "text": [
            "[[[0.10530222 0.58797819 0.07796341]\n",
            "  [0.91235913 0.61810894 0.09461441]\n",
            "  [0.95827033 0.69310105 0.86818691]]\n",
            "\n",
            " [[0.05390677 0.96528804 0.64089579]\n",
            "  [0.03286782 0.71556188 0.11366595]\n",
            "  [0.58850398 0.92440905 0.92305344]]\n",
            "\n",
            " [[0.35012912 0.31226198 0.82406482]\n",
            "  [0.89174305 0.96362772 0.86024693]\n",
            "  [0.27321663 0.12392633 0.71224868]]]\n"
          ]
        }
      ]
    },
    {
      "cell_type": "code",
      "source": [
        "arr = np.array([1, 2, 3, 4, 5, 6, 7, 8, 9, 10])\n",
        "indices_impares = arr % 2 != 0\n",
        "arr[indices_impares] = -1\n",
        "print(arr)"
      ],
      "metadata": {
        "colab": {
          "base_uri": "https://localhost:8080/"
        },
        "id": "iCZNjYZuDxlo",
        "outputId": "ca2d4c18-7bcb-4baf-961e-677b1f0abb7a"
      },
      "execution_count": 16,
      "outputs": [
        {
          "output_type": "stream",
          "name": "stdout",
          "text": [
            "[-1  2 -1  4 -1  6 -1  8 -1 10]\n"
          ]
        }
      ]
    },
    {
      "cell_type": "code",
      "source": [
        "arr_float = np.array([1, 2, 3, 4, 5], dtype=float)\n",
        "print(arr_float)\n",
        "print(\"Tipo de datos:\", arr_float.dtype)"
      ],
      "metadata": {
        "colab": {
          "base_uri": "https://localhost:8080/"
        },
        "id": "mUuNeee2EIHI",
        "outputId": "b101bc98-06ea-48c3-e5d0-eea2b3dc77d3"
      },
      "execution_count": 17,
      "outputs": [
        {
          "output_type": "stream",
          "name": "stdout",
          "text": [
            "[1. 2. 3. 4. 5.]\n",
            "Tipo de datos: float64\n"
          ]
        }
      ]
    },
    {
      "cell_type": "code",
      "source": [
        "arr_1d = np.array([1, 2, 3, 4, 5, 6, 7, 8])\n",
        "arr_2d = arr_1d.reshape(2, -1)\n",
        "print(\"Arreglo original (1D):\")\n",
        "print(arr_1d)\n",
        "print(\"\\nArreglo convertido a 2D (2 filas):\")\n",
        "print(arr_2d)"
      ],
      "metadata": {
        "colab": {
          "base_uri": "https://localhost:8080/"
        },
        "id": "I18aw3YTEVQx",
        "outputId": "2b31533c-d0b5-450c-e5e4-e729d50288ce"
      },
      "execution_count": 18,
      "outputs": [
        {
          "output_type": "stream",
          "name": "stdout",
          "text": [
            "Arreglo original (1D):\n",
            "[1 2 3 4 5 6 7 8]\n",
            "\n",
            "Arreglo convertido a 2D (2 filas):\n",
            "[[1 2 3 4]\n",
            " [5 6 7 8]]\n"
          ]
        }
      ]
    },
    {
      "cell_type": "code",
      "source": [
        "z1 = np.random.randint(0, 10, 10)\n",
        "z2 = np.random.randint(0, 10, 10)\n",
        "common_values = np.intersect1d(z1, z2)\n",
        "print(\"Valores comunes entre z1 y z2:\")\n",
        "print(common_values)"
      ],
      "metadata": {
        "colab": {
          "base_uri": "https://localhost:8080/"
        },
        "id": "-7QiPfQVEsy4",
        "outputId": "ba6fa7c5-88fd-49b4-bb3f-f2fc06bd9234"
      },
      "execution_count": 19,
      "outputs": [
        {
          "output_type": "stream",
          "name": "stdout",
          "text": [
            "Valores comunes entre z1 y z2:\n",
            "[2 4 5 9]\n"
          ]
        }
      ]
    },
    {
      "cell_type": "code",
      "source": [
        "A = np.random.randint(0, 2, 5)\n",
        "B = np.random.randint(0, 8, 5)\n",
        "son_iguales = np.array_equal(A, B)\n",
        "if son_iguales:\n",
        "    print(\"Los arreglos A y B son iguales.\")\n",
        "else:\n",
        "    print(\"Los arreglos A y B no son iguales.\")"
      ],
      "metadata": {
        "colab": {
          "base_uri": "https://localhost:8080/"
        },
        "id": "tbzXTjcgFrs5",
        "outputId": "471e4404-bf05-49e9-999c-3b943df96e82"
      },
      "execution_count": 20,
      "outputs": [
        {
          "output_type": "stream",
          "name": "stdout",
          "text": [
            "Los arreglos A y B no son iguales.\n"
          ]
        }
      ]
    },
    {
      "cell_type": "code",
      "source": [
        "a = np.array([1, 2, 3])\n",
        "b = np.array([4, 5, 6])\n",
        "stacked_array = np.vstack((a, b))\n",
        "print(\"Arreglo apilado verticalmente:\")\n",
        "print(stacked_array)"
      ],
      "metadata": {
        "colab": {
          "base_uri": "https://localhost:8080/"
        },
        "id": "-Ke8CsdfGB6v",
        "outputId": "f861d528-49c8-4447-b96d-f69b0c3e903c"
      },
      "execution_count": 21,
      "outputs": [
        {
          "output_type": "stream",
          "name": "stdout",
          "text": [
            "Arreglo apilado verticalmente:\n",
            "[[1 2 3]\n",
            " [4 5 6]]\n"
          ]
        }
      ]
    },
    {
      "cell_type": "code",
      "source": [
        "a = np.array([1, 2, 3])\n",
        "b = np.array([4, 5, 6])\n",
        "stacked_array = np.hstack((a, b))\n",
        "print(\"Arreglo apilado horizontalmente:\")\n",
        "print(stacked_array)"
      ],
      "metadata": {
        "colab": {
          "base_uri": "https://localhost:8080/"
        },
        "id": "A4yPlZwiGIS6",
        "outputId": "7bccb04e-5cc8-4442-8c42-145071432444"
      },
      "execution_count": 22,
      "outputs": [
        {
          "output_type": "stream",
          "name": "stdout",
          "text": [
            "Arreglo apilado horizontalmente:\n",
            "[1 2 3 4 5 6]\n"
          ]
        }
      ]
    },
    {
      "cell_type": "code",
      "source": [
        "tmp = np.array([2, 6, 9, 12, 3, 8, 4, 7, 10])\n",
        "resultado = tmp[(tmp >= 5) & (tmp <= 10)]\n",
        "\n",
        "# Imprimir el resultado\n",
        "print(\"Elementos entre 5 y 10 del arreglo tmp:\")\n",
        "print(resultado)"
      ],
      "metadata": {
        "colab": {
          "base_uri": "https://localhost:8080/"
        },
        "id": "06PktXZRGWtR",
        "outputId": "dde4545c-5cb4-4f4b-ccf9-5627b2786fbc"
      },
      "execution_count": 23,
      "outputs": [
        {
          "output_type": "stream",
          "name": "stdout",
          "text": [
            "Elementos entre 5 y 10 del arreglo tmp:\n",
            "[ 6  9  8  7 10]\n"
          ]
        }
      ]
    },
    {
      "cell_type": "code",
      "source": [
        "def funcion_escalar_o_arreglo(x):\n",
        "  if np.isscalar(x):\n",
        "        x = np.array(x)\n",
        "        resultado = np.square(x)\n",
        "\n",
        "        return resultado\n",
        "valor_escalar = 5\n",
        "valores_arreglo = np.array([1, 2, 3, 4, 5])\n",
        "resultado_escalar = funcion_escalar_o_arreglo(valor_escalar)\n",
        "print(\"Resultado para valor escalar:\", resultado_escalar)\n",
        "resultado_arreglo = funcion_escalar_o_arreglo(valores_arreglo)\n",
        "print(\"Resultado para arreglo:\", resultado_arreglo)"
      ],
      "metadata": {
        "colab": {
          "base_uri": "https://localhost:8080/"
        },
        "id": "lMqeWTqgGoWg",
        "outputId": "d61f43f0-058d-4161-9ff1-701eb3818138"
      },
      "execution_count": 32,
      "outputs": [
        {
          "output_type": "stream",
          "name": "stdout",
          "text": [
            "Resultado para valor escalar: 25\n",
            "Resultado para arreglo: None\n"
          ]
        }
      ]
    },
    {
      "cell_type": "code",
      "source": [
        "arr = np.array([[1, 2, 3],\n",
        "                [4, 5, 6],\n",
        "                [7, 8, 9]])\n",
        "arr[:, [1, 2]] = arr[:, [2, 1]]\n",
        "\n",
        "# Imprimir la matriz resultante\n",
        "print(\"Matriz con columnas 1 y 2 intercambiadas:\")\n",
        "print(arr)"
      ],
      "metadata": {
        "colab": {
          "base_uri": "https://localhost:8080/"
        },
        "id": "lgm__8SSHZ4R",
        "outputId": "2c7259d7-666a-41fb-990d-84efdd572d24"
      },
      "execution_count": 33,
      "outputs": [
        {
          "output_type": "stream",
          "name": "stdout",
          "text": [
            "Matriz con columnas 1 y 2 intercambiadas:\n",
            "[[1 3 2]\n",
            " [4 6 5]\n",
            " [7 9 8]]\n"
          ]
        }
      ]
    },
    {
      "cell_type": "code",
      "source": [
        "# Crear un arreglo bidimensional de 5x3 con números enteros aleatorios entre 5 y 10\n",
        "arr = np.random.randint(5, 11, size=(5, 3))\n",
        "\n",
        "# Imprimir la matriz creada\n",
        "print(\"Matriz de números enteros aleatorios entre 5 y 10:\")\n",
        "print(arr)"
      ],
      "metadata": {
        "colab": {
          "base_uri": "https://localhost:8080/"
        },
        "id": "X0RkCLmYIUAh",
        "outputId": "6a20a3e2-7f04-4a95-fec4-e3a6b82f0372"
      },
      "execution_count": 34,
      "outputs": [
        {
          "output_type": "stream",
          "name": "stdout",
          "text": [
            "Matriz de números enteros aleatorios entre 5 y 10:\n",
            "[[10  9  7]\n",
            " [ 9  6  6]\n",
            " [ 7  8  8]\n",
            " [10 10  7]\n",
            " [ 9  5  7]]\n"
          ]
        }
      ]
    }
  ]
}