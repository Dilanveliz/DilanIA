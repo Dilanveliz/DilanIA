{
  "nbformat": 4,
  "nbformat_minor": 0,
  "metadata": {
    "colab": {
      "provenance": [],
      "authorship_tag": "ABX9TyN4QVl5SmvcVCezJEclnhLN",
      "include_colab_link": true
    },
    "kernelspec": {
      "name": "python3",
      "display_name": "Python 3"
    },
    "language_info": {
      "name": "python"
    }
  },
  "cells": [
    {
      "cell_type": "markdown",
      "metadata": {
        "id": "view-in-github",
        "colab_type": "text"
      },
      "source": [
        "<a href=\"https://colab.research.google.com/github/Dilanveliz/DilanIA/blob/main/PracticaSemana15.ipynb\" target=\"_parent\"><img src=\"https://colab.research.google.com/assets/colab-badge.svg\" alt=\"Open In Colab\"/></a>"
      ]
    },
    {
      "cell_type": "code",
      "execution_count": null,
      "metadata": {
        "id": "3CnLFcU8mKJ1"
      },
      "outputs": [],
      "source": [
        "import seaborn as sns\n",
        "import pandas as pd\n",
        "dfd= pd.read_csv('/content/BankChurners.csv')\n",
        "\n",
        "dfd.head()"
      ]
    },
    {
      "cell_type": "code",
      "source": [
        "dfdCorr= dfd.corr(method='spearman')\n",
        "dfdCorr"
      ],
      "metadata": {
        "id": "ZEiQCR4Lm4i2"
      },
      "execution_count": null,
      "outputs": []
    },
    {
      "cell_type": "code",
      "source": [
        "sns.heatmap(dfdCorr,\n",
        "            xticklabels=dfdCorr.columns,\n",
        "            yticklabels=dfdCorr.columns,\n",
        "            cmap='coolwarm')"
      ],
      "metadata": {
        "id": "VtngAqQdnU7U"
      },
      "execution_count": null,
      "outputs": []
    },
    {
      "cell_type": "code",
      "source": [
        "sns.scatterplot(x='Avg_Open_To_Buy', y='Credit_Limit', data= dfd )"
      ],
      "metadata": {
        "id": "vKEY_i5aoH93"
      },
      "execution_count": null,
      "outputs": []
    },
    {
      "cell_type": "code",
      "source": [
        "Expl=dfd[['Avg_Open_To_Buy']]\n",
        "Obje= dfd['Credit_Limit']\n",
        "import sklearn\n",
        "from sklearn.linear_model import LinearRegression\n",
        "Model = LinearRegression()\n",
        "type(Model)\n",
        "sklearn.linear_model._base.LinearRegression\n",
        "Model.fit(X=Expl, y=Obje)\n",
        "LinearRegression()\n",
        "Model.__dict__"
      ],
      "metadata": {
        "id": "tdtdIllhobP9"
      },
      "execution_count": null,
      "outputs": []
    },
    {
      "cell_type": "code",
      "source": [
        "Model.predict(X=[[40]])"
      ],
      "metadata": {
        "id": "E_-DzQUZpzOe"
      },
      "execution_count": null,
      "outputs": []
    },
    {
      "cell_type": "code",
      "source": [
        "y_pred= Model.predict(X=dfd[['Avg_Open_To_Buy']])\n",
        "dfd.insert(0, 'pred', y_pred)\n",
        "dfd.head()"
      ],
      "metadata": {
        "id": "Wgc5yCWyq4n-"
      },
      "execution_count": null,
      "outputs": []
    },
    {
      "cell_type": "code",
      "source": [
        "sns.scatterplot(x='Avg_Open_To_Buy', y='Credit_Limit', data= dfd)\n",
        "sns.scatterplot(x='Avg_Open_To_Buy', y='pred', data= dfd )\n",
        "sns.lineplot(x='Avg_Open_To_Buy', y='pred', data=dfd, color= 'green')"
      ],
      "metadata": {
        "id": "E7ayJ7-LsIMF"
      },
      "execution_count": null,
      "outputs": []
    },
    {
      "cell_type": "code",
      "source": [
        "Model.score(X=Expl, y= Obje)"
      ],
      "metadata": {
        "id": "qrzT4yR9tUMv"
      },
      "execution_count": null,
      "outputs": []
    }
  ]
}